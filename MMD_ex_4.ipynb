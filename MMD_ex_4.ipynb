{
  "cells": [
    {
      "cell_type": "markdown",
      "metadata": {
        "id": "view-in-github",
        "colab_type": "text"
      },
      "source": [
        "<a href=\"https://colab.research.google.com/github/SriVidyaYeluripati/24WS-mmd-code-public/blob/dev/MMD_ex_4.ipynb\" target=\"_parent\"><img src=\"https://colab.research.google.com/assets/colab-badge.svg\" alt=\"Open In Colab\"/></a>"
      ]
    },
    {
      "cell_type": "markdown",
      "source": [
        "Assignment done by\n",
        "\n",
        "- Sri Vidya Yeluripati - 4730150\n",
        "- Priti Kamat - 4732295\n",
        "- Siddhant Bhadsavale - 4732294"
      ],
      "metadata": {
        "id": "Q96B7InoQINV"
      }
    },
    {
      "cell_type": "markdown",
      "metadata": {
        "id": "jLxJYdGFckkb"
      },
      "source": [
        "### **Exercise 1: Probability of Machine Failure**\n",
        "#### **a) Probability of at least one machine failure**\n",
        "In a cluster of `n` machines, each with a probability `p` of failing in a given time `T`, the probability of **at least one machine** failing can be calculated using the complement of the probability that **no machine fails**.\n",
        "\n",
        "The probability that **no machine fails** is $(1 - p)^n$. Therefore, the probability of **at least one machine** failing is:\n",
        "$$\n",
        "P(\\text{at least one failure}) = 1 - (1 - p)^n\n",
        "$$\n",
        "\n"
      ]
    },
    {
      "cell_type": "code",
      "execution_count": null,
      "metadata": {
        "colab": {
          "base_uri": "https://localhost:8080/"
        },
        "id": "u4WiILd68lZB",
        "outputId": "38afb19f-3319-4e94-8f0b-4769e241f396"
      },
      "outputs": [
        {
          "name": "stdout",
          "output_type": "stream",
          "text": [
            "Probability of at least one machine failure: 0.6513\n"
          ]
        }
      ],
      "source": [
        "#### Python Code to Calculate Probability\n",
        "\n",
        "n = 10  # Number of machines\n",
        "p = 0.1  # Probability of each machine failing\n",
        "\n",
        "prob_at_least_one_failure = 1 - (1 - p) ** n\n",
        "print(f\"Probability of at least one machine failure: {prob_at_least_one_failure:.4f}\")\n"
      ]
    },
    {
      "cell_type": "markdown",
      "metadata": {
        "id": "0wq-3SGe88jE"
      },
      "source": [
        "#### **b) Probability of `k` machines failing**\n",
        "The probability $p_k$ of exactly `k` machines failing out of `n` can be modeled using the **binomial distribution**:\n",
        "$$\n",
        "p_k = \\binom{n}{k} p^k (1 - p)^{n-k}\n",
        "$$\n",
        "This expression represents the probability of selecting `k` machines out of `n` to fail, multiplied by the probability that exactly `k` machines fail.\n",
        "\n"
      ]
    },
    {
      "cell_type": "code",
      "execution_count": null,
      "metadata": {
        "colab": {
          "base_uri": "https://localhost:8080/"
        },
        "id": "Srhq0K-19Bj6",
        "outputId": "5feb289e-f06c-4e9a-8687-ec745e8f71e0"
      },
      "outputs": [
        {
          "name": "stdout",
          "output_type": "stream",
          "text": [
            "Probability of exactly 3 machines failing: 0.0574\n"
          ]
        }
      ],
      "source": [
        "from math import comb\n",
        "\n",
        "def probability_k_failures(n, k, p):\n",
        "    return comb(n, k) * (p ** k) * ((1 - p) ** (n - k))\n",
        "\n",
        "k = 3  # Number of machines failing\n",
        "prob_k_failures = probability_k_failures(n, k, p)\n",
        "print(f\"Probability of exactly {k} machines failing: {prob_k_failures:.4f}\")"
      ]
    },
    {
      "cell_type": "markdown",
      "metadata": {
        "id": "csoxcC_u8-br"
      },
      "source": [
        "#### **c) Verification of the sum of probabilities**\n",
        "We need to show:\n",
        "$$\n",
        "p_1 + p_2 + \\cdots + p_n = 1 - (1 - p)^n\n",
        "$$\n",
        "This follows from the property of binomial expansion and the definition of complementary probability."
      ]
    },
    {
      "cell_type": "code",
      "execution_count": null,
      "metadata": {
        "colab": {
          "base_uri": "https://localhost:8080/"
        },
        "id": "oWonLNHh9EhT",
        "outputId": "ebf258f2-e700-49cf-9e7a-da706cdf35f1"
      },
      "outputs": [
        {
          "name": "stdout",
          "output_type": "stream",
          "text": [
            "Sum of probabilities from 1 to n failures: 0.6513\n",
            "Complementary probability: 0.6513\n"
          ]
        }
      ],
      "source": [
        "sum_probabilities = sum(probability_k_failures(n, k, p) for k in range(1, n + 1))\n",
        "print(f\"Sum of probabilities from 1 to n failures: {sum_probabilities:.4f}\")\n",
        "print(f\"Complementary probability: {1 - (1 - p) ** n:.4f}\")"
      ]
    },
    {
      "cell_type": "markdown",
      "metadata": {
        "id": "Er79y0Qs3r3V"
      },
      "source": [
        "\n",
        "### **Exercise 2: Hash Functions and Password Security**\n",
        "#### **a) Examples of Hash Functions**\n",
        "Hashing is a process that takes an input (or 'message') and returns a fixed-length string of bytes. The output is typically a 'digest' that uniquely represents the input data. Hash functions are commonly used in applications such as data storage, encryption, and checksums to verify data integrity. There are two major types of hash functions used here:\n",
        "\n",
        "   - **SHA-256:** A cryptographic hash function that provides high security. It is commonly used in secure hashing applications such as digital signatures.\n",
        "   - **MD5:** Another hashing algorithm, but it is less secure compared to SHA-256 and is mostly used for non-cryptographic purposes, like checksums.\n",
        "\n",
        "\n",
        "#### **b) Password Security, Rainbow Tables, and Salting**\n",
        "- **Hash Functions and Password Security**: Hash functions are used to securely store passwords by generating a fixed-length hash that is not reversible. If a password is hashed, it’s difficult to recover the original password.\n",
        "- **Rainbow Table**: A precomputed table of hashes used to find the original password by comparing hash values. It significantly speeds up the attack on password hashes.\n",
        "- **Salt**: Adding a random value (`salt`) to a password before hashing prevents attackers from using precomputed rainbow tables since every password hash will be unique due to the salt.\n",
        "\n",
        "   **Salting:**\n",
        "   Salting refers to adding random data to the input before hashing. This makes it harder for attackers to use precomputed hash tables (rainbow tables) for cracking hashed passwords. Salting is important for enhancing security in hashing.\n"
      ]
    },
    {
      "cell_type": "code",
      "execution_count": null,
      "metadata": {
        "colab": {
          "base_uri": "https://localhost:8080/"
        },
        "id": "EiUGzE4s9jLp",
        "outputId": "3dced91b-1582-4ead-fb98-fd41dedb16a5"
      },
      "outputs": [
        {
          "name": "stdout",
          "output_type": "stream",
          "text": [
            "SHA-256 Hash: 89e01536ac207279409d4de1e5253e01f4a1769e696db0d6062ca9b8f56767c8\n",
            "MD5 Hash: 34819d7beeabb9260a5c854bc85b3e44\n"
          ]
        }
      ],
      "source": [
        "#Demonstrate Hash Functions\n",
        "import hashlib\n",
        "\n",
        "# SHA-256 hash example\n",
        "password = \"mypassword\"\n",
        "sha256_hash = hashlib.sha256(password.encode()).hexdigest()\n",
        "print(f\"SHA-256 Hash: {sha256_hash}\")\n",
        "\n",
        "# MD5 hash example\n",
        "md5_hash = hashlib.md5(password.encode()).hexdigest()\n",
        "print(f\"MD5 Hash: {md5_hash}\")"
      ]
    },
    {
      "cell_type": "code",
      "execution_count": null,
      "metadata": {
        "colab": {
          "base_uri": "https://localhost:8080/"
        },
        "id": "r7DZkbD19mzZ",
        "outputId": "a6361853-3add-4d74-b660-80ddf5bacbbb"
      },
      "outputs": [
        {
          "name": "stdout",
          "output_type": "stream",
          "text": [
            "Salted SHA-256 Hash: ca7ba7ebe0c486afb16fd78c74a450c44b6ee02b1eac6488df119e29d01068b4\n"
          ]
        }
      ],
      "source": [
        "#Salting a Password\n",
        "import os\n",
        "\n",
        "# Generate a random salt\n",
        "salt = os.urandom(16)\n",
        "password_salted = salt + password.encode()\n",
        "sha256_salted_hash = hashlib.sha256(password_salted).hexdigest()\n",
        "print(f\"Salted SHA-256 Hash: {sha256_salted_hash}\")"
      ]
    },
    {
      "cell_type": "markdown",
      "metadata": {
        "id": "0vujKuOE31LG"
      },
      "source": [
        "### **Exercise 3: Java HashMap Data Structure**\n",
        "#### **a) Internal Data Structure of HashMap**\n",
        "- HashMap uses an **array of linked lists** (or a similar structure like binary trees) to store key-value pairs.\n",
        "- Each entry is placed in a \"bucket\" based on the hash code of the key.\n",
        "\n",
        "#### **b) Adding a Key-Value Pair**\n",
        "- The hash code of the key is computed, and the key-value pair is added to the appropriate bucket.\n",
        "- If there’s a **collision** (i.e., another entry already in the bucket), the new entry is appended to the linked list or added using balanced tree logic.\n",
        "\n",
        "#### **c) Retrieving an Entry**\n",
        "- The hash code of the key is computed, and the corresponding bucket is accessed.\n",
        "- The bucket is searched linearly (or using tree-based search) to find the correct key-value pair."
      ]
    },
    {
      "cell_type": "code",
      "execution_count": null,
      "metadata": {
        "colab": {
          "base_uri": "https://localhost:8080/"
        },
        "id": "WHUcZN9Y94g8",
        "outputId": "94fb2da4-6857-4fd3-c4e0-21dbf78ccb27"
      },
      "outputs": [
        {
          "name": "stdout",
          "output_type": "stream",
          "text": [
            "Value for 'name': Alice\n"
          ]
        }
      ],
      "source": [
        "# Simulate HashMap Behavior\n",
        "class SimpleHashMap:\n",
        "    def __init__(self, size=10):\n",
        "        self.size = size\n",
        "        self.buckets = [[] for _ in range(size)]\n",
        "\n",
        "    def _hash(self, key):\n",
        "        return hash(key) % self.size\n",
        "\n",
        "    def put(self, key, value):\n",
        "        bucket_index = self._hash(key)\n",
        "        bucket = self.buckets[bucket_index]\n",
        "        for i, (k, v) in enumerate(bucket):\n",
        "            if k == key:\n",
        "                bucket[i] = (key, value)\n",
        "                return\n",
        "        bucket.append((key, value))\n",
        "\n",
        "    def get(self, key):\n",
        "        bucket_index = self._hash(key)\n",
        "        bucket = self.buckets[bucket_index]\n",
        "        for k, v in bucket:\n",
        "            if k == key:\n",
        "                return v\n",
        "        return None\n",
        "\n",
        "# Example usage\n",
        "hash_map = SimpleHashMap()\n",
        "hash_map.put(\"name\", \"Alice\")\n",
        "print(f\"Value for 'name': {hash_map.get('name')}\")"
      ]
    },
    {
      "cell_type": "markdown",
      "metadata": {
        "id": "zLV4yV6-4Azn"
      },
      "source": [
        "\n",
        "### **Exercise 4: Hash Functions for Bloom Filter**\n",
        "- **Hash Function 1**: SHA-256 applied to `x` followed by modulo `m`.\n",
        "- **Hash Function 2**: MurmurHash3 of `x` followed by modulo `m`.\n",
        "- **Hash Function 3**: CRC32 applied to `x` followed by modulo `m`.\n",
        "\n",
        "These functions are chosen because they are **independent** and produce a good distribution of hash values, which is essential for minimizing false positives in Bloom filters.\n",
        "\n",
        "\n"
      ]
    },
    {
      "cell_type": "code",
      "execution_count": null,
      "metadata": {
        "colab": {
          "base_uri": "https://localhost:8080/"
        },
        "id": "RiySzZgq-E0k",
        "outputId": "92223d48-c71b-4813-9210-87558cf33e39"
      },
      "outputs": [
        {
          "name": "stdout",
          "output_type": "stream",
          "text": [
            "SHA-256 Hash Value: 2\n",
            "MurmurHash3 Hash Value: 1\n",
            "CRC32 Hash Value: 5\n"
          ]
        }
      ],
      "source": [
        "import binascii\n",
        "import mmh3\n",
        "\n",
        "m = 10\n",
        "x = \"example\"\n",
        "\n",
        "# SHA-256 hash function\n",
        "sha256_hash_value = int(hashlib.sha256(x.encode()).hexdigest(), 16) % m\n",
        "print(f\"SHA-256 Hash Value: {sha256_hash_value}\")\n",
        "\n",
        "# MurmurHash3 function\n",
        "murmur_hash_value = mmh3.hash(x) % m\n",
        "print(f\"MurmurHash3 Hash Value: {murmur_hash_value}\")\n",
        "\n",
        "# CRC32 hash function\n",
        "crc32_hash_value = binascii.crc32(x.encode()) % m\n",
        "print(f\"CRC32 Hash Value: {crc32_hash_value}\")"
      ]
    },
    {
      "cell_type": "markdown",
      "source": [
        " **Comparing Hash Functions:**\n",
        "   - **SHA-256:** A cryptographic hash function designed for security, widely used in secure transactions.\n",
        "   - **MurmurHash3:** A non-cryptographic hash function that is very fast. It is suitable for general-purpose hashing, like in hash tables, but it is not secure against cryptographic attacks.\n",
        "   - **CRC32:** Typically used for checksums to detect changes in data. It's fast but not suitable for cryptographic security.\n",
        "\n",
        "   **Use Cases:**\n",
        "   Cryptographic hash functions are used when security is paramount (e.g., password hashing), whereas non-cryptographic hash functions are used for internal data processing where speed matters more than security."
      ],
      "metadata": {
        "id": "SIJcpnqkTIoh"
      }
    },
    {
      "cell_type": "markdown",
      "metadata": {
        "id": "sGcMaZyl-dZs"
      },
      "source": [
        "### **Exercise 5: Bloom Filter Probability**\n",
        "### 4. **Bloom Filter Demonstration (`h1` and `h2` Hash Functions)**\n",
        "\n",
        "   A Bloom filter is a space-efficient probabilistic data structure used to test whether an element is a member of a set. It is fast and uses multiple hash functions to reduce false positives.\n",
        "\n",
        "   - **False Positives:** While a Bloom filter can never produce false negatives, it can produce false positives. This means it may sometimes say an element is in the set when it is not.\n",
        "   - **`h1` and `h2` Hash Functions:** These functions generate different hashes from the same input to set multiple bits in the Bloom filter. This helps in spreading out the data across the filter, thus minimizing the false positive rate.\n",
        "\n",
        "  \n",
        "#### **a) Probability of a Random Element Being Hashed**\n",
        "- The probability can be computed using the **throwing darts analysis** as discussed in the lecture. Assuming the Bloom filter bit array has `n = 5` bits.\n",
        "\n",
        "#### **b) Applying Hash Functions**\n",
        "- Given hash functions $h_1(x) = x \\mod 5$ and $h_2(x) = 2 * x + 3 \\mod 5$:\n",
        "  - Applying to `4` and `1` will give you the updated bit array (computed step-by-step).\n",
        "\n",
        "#### **c) False Positive Probability**\n",
        "- The false positive rate can be computed using the formula from Lecture 5."
      ]
    },
    {
      "cell_type": "code",
      "execution_count": null,
      "metadata": {
        "colab": {
          "base_uri": "https://localhost:8080/"
        },
        "id": "otnMit86-c6B",
        "outputId": "9f875438-8c4c-4407-da8a-a32fb07386b4"
      },
      "outputs": [
        {
          "name": "stdout",
          "output_type": "stream",
          "text": [
            "Updated Bit Array: [1, 1, 0, 0, 1]\n"
          ]
        }
      ],
      "source": [
        "def h1(x):\n",
        "    return x % 5\n",
        "\n",
        "def h2(x):\n",
        "    return (2 * x + 3) % 5\n",
        "\n",
        "# Applying hash functions to values 4 and 1\n",
        "values = [4, 1]\n",
        "bit_array = [0] * 5\n",
        "\n",
        "for value in values:\n",
        "    bit_array[h1(value)] = 1\n",
        "    bit_array[h2(value)] = 1\n",
        "\n",
        "print(f\"Updated Bit Array: {bit_array}\")"
      ]
    },
    {
      "cell_type": "markdown",
      "metadata": {
        "id": "x2XfOwlF4DHQ"
      },
      "source": [
        "### **Exercise 6: Bloom Filtering and Plotting Optimal Values**\n",
        "#### **a) Plotting Optimal Values**\n",
        "**Formula for Optimal `k`:**\n",
        "   The optimal number of hash functions (`k`) for a Bloom filter can be calculated using the formula:\n",
        "\n",
        "   \n",
        "   `k = (n / m) * log(2)`\n",
        "\n",
        "   Where:\n",
        "   - **`n`** is the number of bits in the Bloom filter.\n",
        "   - **`m`** is the number of elements you expect to add to the Bloom filter.\n",
        "   - The natural logarithm of 2 helps optimize the false positive rate.\n",
        "\n",
        "We can use Python to plot the optimal number of hash functions `k` for `n = m, 2m, ..., 20m`.\n",
        "\n",
        "\n",
        "#### **b) Minimizing Size `n` for a Given False Positive Probability**\n",
        "- Write a Python script to compute the optimal `n` and `k` values for $b_1 = 0.01$, $b_2 = 0.005$, and $b_3 = 0.001$.\n"
      ]
    },
    {
      "cell_type": "code",
      "execution_count": null,
      "metadata": {
        "colab": {
          "base_uri": "https://localhost:8080/",
          "height": 472
        },
        "id": "rpkZ_Uq4kwrn",
        "outputId": "73d9431d-e125-4b26-ca37-18cd34afe6c4"
      },
      "outputs": [
        {
          "data": {
            "image/png": "[encoded data removed]",
            "text/plain": [
              "<Figure size 640x480 with 1 Axes>"
            ]
          },
          "metadata": {},
          "output_type": "display_data"
        }
      ],
      "source": [
        "#Exercise 6 in Part a\n",
        "import matplotlib.pyplot as plt\n",
        "import numpy as np\n",
        "\n",
        "m = 100  # Assuming an arbitrary value for m\n",
        "n_values = [m * i for i in range(1, 21)]\n",
        "k_opt_values = [int((n / m) * np.log(2)) for n in n_values]\n",
        "\n",
        "plt.plot(n_values, k_opt_values, marker='o')\n",
        "plt.xlabel('Size of Bit Array (n)')\n",
        "plt.ylabel('Optimal Number of Hash Functions (k)')\n",
        "plt.title('Optimal Number of Hash Functions vs Bit Array Size')\n",
        "plt.grid(True)\n",
        "plt.show()\n"
      ]
    },
    {
      "cell_type": "markdown",
      "metadata": {
        "id": "MNqRveMZ4aeH"
      },
      "source": [
        "### **Exercise 7: Prove Optimal `k` for Bloom Filter**\n",
        "The proof involves taking the derivative of the false positive probability with respect to `k` and setting it to zero. This yields:\n",
        "$$\n",
        "k_{opt} = \\frac{n}{m} \\ln(2)\n",
        "$$\n",
        "**Proof of Bloom Filter False Positive Rate: **\n",
        "   The probability of a false positive in a Bloom filter can be computed by using the following formula:\n",
        "   \n",
        "   `P(f) = (1 - e^{-km/n})^k`\n",
        "\n",
        "   Where:\n",
        "   - **`P(f)`**: False positive probability.\n",
        "   - **`k`**: Number of hash functions.\n",
        "   - **`n`**: Number of bits in the Bloom filter.\n",
        "   - **`m`**: Number of elements inserted.\n",
        "\n",
        "   1. Each bit in the Bloom filter is set by a number of hash functions. When we insert an element, `k` bits are set.\n",
        "   2. The number of bits that remain unset after inserting `m` elements depends on how uniformly our hash functions distribute elements.\n",
        "   3. The false positive occurs when all `k` hash functions point to bits that were set by other elements but not actually present.\n",
        "\n",
        "   To derive the formula, we approximate using the exponential function and take into consideration that after `m` insertions and `k` hash functions, the total number of bits set in the filter is influenced by the collisions in a probabilistic way.\n",
        "\n",
        "   This proof demonstrates that with careful selection of the number of hash functions `k` relative to the number of bits and elements, you can reduce the false positive rate effectively, but never to zero."
      ]
    },
    {
      "cell_type": "code",
      "execution_count": null,
      "metadata": {
        "colab": {
          "base_uri": "https://localhost:8080/"
        },
        "id": "EZudC14K-uEp",
        "outputId": "cbd46501-274e-4246-c053-184fc75a7e6f"
      },
      "outputs": [
        {
          "name": "stdout",
          "output_type": "stream",
          "text": [
            "Optimal number of hash functions (k): 7\n"
          ]
        }
      ],
      "source": [
        "import math\n",
        "\n",
        "def optimal_k(n, m):\n",
        "    return round((n / m) * math.log(2))\n",
        "\n",
        "n = 100  # Number of bits in the bit array\n",
        "m = 10   # Number of elements to be inserted\n",
        "k_opt = optimal_k(n, m)\n",
        "print(f\"Optimal number of hash functions (k): {k_opt}\")"
      ]
    },
    {
      "cell_type": "markdown",
      "metadata": {
        "id": "3I8DfRFT4d-n"
      },
      "source": [
        "### **Exercise 8: Sampling for Stream Queries**\n",
        "#### **a) Average Number of Students in a Course**\n",
        "- **Key Attributes**: `university`\n",
        "\n",
        "#### **b) Fraction of Students with an Average Grade ≤ 2.0**\n",
        "- **Key Attributes**: `studentID`\n",
        "\n",
        "#### **c) Fraction of Courses Where Half the Students Got ≤ 1.7**\n",
        "- **Key Attributes**: `courseID`, `university`\n"
      ]
    },
    {
      "cell_type": "code",
      "execution_count": null,
      "metadata": {
        "colab": {
          "base_uri": "https://localhost:8080/"
        },
        "id": "MERfnnim-11P",
        "outputId": "e16a3367-e69d-479f-ed8d-014acdf8a1e5"
      },
      "outputs": [
        {
          "name": "stdout",
          "output_type": "stream",
          "text": [
            "Fraction of students with an average grade <= 2.0: 0.32\n"
          ]
        }
      ],
      "source": [
        "import random\n",
        "\n",
        "# Example dataset\n",
        "students = [{'studentID': i, 'grade': random.uniform(1.0, 4.0)} for i in range(1, 101)]\n",
        "\n",
        "# Fraction of students with an average grade <= 2.0\n",
        "grade_threshold = 2.0\n",
        "count_below_threshold = sum(1 for student in students if student['grade'] <= grade_threshold)\n",
        "fraction_below_threshold = count_below_threshold / len(students)\n",
        "\n",
        "print(f\"Fraction of students with an average grade <= {grade_threshold}: {fraction_below_threshold:.2f}\")"
      ]
    },
    {
      "cell_type": "markdown",
      "metadata": {
        "id": "SKhTiijVQHQj"
      },
      "source": [
        "\n",
        "\n",
        "### **Exercise 9: Streaming Word Count Analysis Using PySpark**\n",
        "\n",
        "**Objective:**\n",
        "The aim of Exercise 9 is to perform real-time text analysis using PySpark's Structured Streaming. The task involves creating a streaming job that reads text data from a socket, processes the data to count the occurrences of each word, and then outputs these results in a readable format. This exercise demonstrates Spark's capabilities in handling continuous data streams efficiently.\n",
        "\n",
        "**Process:**\n",
        "1. **Set Up the Streaming Environment**:\n",
        "   - A Spark session is initialized to manage the streaming job.\n",
        "   - Data is streamed from a socket connection, where the server listens on `localhost` and port `9999`.\n",
        "   \n",
        "2. **Data Transformation**:\n",
        "   - Each line of text received from the socket is split into individual words.\n",
        "   - The words are aggregated to maintain a count of their occurrences.\n",
        "\n",
        "3. **Streaming Output**:\n",
        "   - The results are written to an external text file, with checkpoints used to track the progress of the stream.\n",
        "   - This ensures fault tolerance and allows the streaming job to resume from where it left off in case of any interruptions.\n",
        "\n",
        "**Code Snippet:**\n",
        "\n",
        "```python\n",
        "from pyspark.sql import SparkSession\n",
        "from pyspark.sql.functions import explode, split\n",
        "\n",
        "# Create a Spark session\n",
        "spark = SparkSession.builder.appName(\"StructuredNetworkWordCount\").getOrCreate()\n",
        "\n",
        "# Create DataFrame representing the stream of input lines from a connection to localhost:9999\n",
        "lines = spark.readStream.format(\"socket\").option(\"host\", \"localhost\").option(\"port\", 9999).load()\n",
        "\n",
        "# Split the lines into words\n",
        "words = lines.select(explode(split(lines.value, \" \")).alias(\"word\"))\n",
        "\n",
        "# Generate running word count\n",
        "wordCounts = words.groupBy(\"word\").count()\n",
        "\n",
        "# Write the output to a text file instead of console\n",
        "query = wordCounts.writeStream \\\n",
        "    .outputMode(\"complete\") \\\n",
        "    .format(\"text\") \\\n",
        "    .option(\"path\", \"/workspace/24WS-mmd-code-public/stream_output\") \\\n",
        "    .option(\"checkpointLocation\", \"/workspace/24WS-mmd-code-public/checkpoints\") \\\n",
        "    .start()\n",
        "\n",
        "query.awaitTermination()\n",
        "```\n",
        "\n",
        "**Results:**\n",
        "- The output of the word count is saved in the folder `/workspace/24WS-mmd-code-public/stream_output`.\n",
        "- Each output batch contains the count of words that have appeared since the stream started.\n",
        "- Below are some sample outputs that have been saved during this exercise:\n",
        "\n",
        "**Sample Outputs (Saved to Text File):**\n",
        "\n",
        "```\n",
        "Batch 1:\n",
        "+--------+-----+\n",
        "| word   |count|\n",
        "+--------+-----+\n",
        "| step   | 1   |\n",
        "| man,   | 1   |\n",
        "| small  | 1   |\n",
        "| for    | 2   |\n",
        "| leap   | 1   |\n",
        "| a      | 2   |\n",
        "| giant  | 1   |\n",
        "| mankind| 1   |\n",
        "+--------+-----+\n",
        "\n",
        "Batch 2:\n",
        "+----------+-----+\n",
        "| word     |count|\n",
        "+----------+-----+\n",
        "| streaming| 2   |\n",
        "| process  | 2   |\n",
        "| Spark    | 2   |\n",
        "| text     | 2   |\n",
        "| to       | 2   |\n",
        "+----------+-----+\n",
        "```\n",
        "\n",
        "**Observations:**\n",
        "- The streaming job effectively processed incoming data and provided word counts for each batch.\n",
        "- The word count evolved with each batch as new text messages were received, indicating successful real-time aggregation.\n",
        "\n",
        "**Conclusion:**\n",
        "Exercise 9 has demonstrated the utility of Spark’s Structured Streaming for real-time word counting from a text stream. The use of PySpark provided a scalable way to handle and analyze the data, with checkpointing enabling fault tolerance and state management.\n",
        "\n",
        "The results indicate that the system works effectively for small-scale streaming data. Future improvements could include integrating more advanced transformations, adding filters, or connecting different types of data sources to showcase Spark's versatility.\n",
        "\n"
      ]
    },
    {
      "cell_type": "markdown",
      "metadata": {
        "id": "R8bylr9dQHQj"
      },
      "source": []
    }
  ],
  "metadata": {
    "colab": {
      "provenance": [],
      "include_colab_link": true
    },
    "kernelspec": {
      "display_name": "Python 3",
      "name": "python3"
    },
    "language_info": {
      "name": "python"
    }
  },
  "nbformat": 4,
  "nbformat_minor": 0
}